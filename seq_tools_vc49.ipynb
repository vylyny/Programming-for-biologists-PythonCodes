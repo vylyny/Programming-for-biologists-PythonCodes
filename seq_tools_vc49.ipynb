{
 "cells": [
  {
   "cell_type": "code",
   "execution_count": 508,
   "metadata": {},
   "outputs": [],
   "source": [
    "######################A.Sequence Tools"
   ]
  },
  {
   "cell_type": "code",
   "execution_count": 1,
   "metadata": {},
   "outputs": [],
   "source": [
    "def load_fasta(f):\n",
    "    \"\"\"\n",
    "    Function load_fasta(f) takes a fasta file input (str) and returns only the sequences (str),\n",
    "    the sequence headers were removed.\n",
    "    Each sequence is separated by a comma. It also checks if the fasta file if empty. If empty, it\n",
    "    will prompt an error message \"empty fasta file\".\n",
    "    \"\"\"\n",
    "    f= open (f,\"r\") \n",
    "    line=f.readlines() \n",
    "    #print (len(line)) #commenting out debugging step\n",
    "    if len(line) == 0:  #check if the input fasta file is empty\n",
    "            return (\"empty fasta file.\") # if no line (empty file), print this text\n",
    "    #if not empty:\n",
    "    sequences = [] #empty list for sequences\n",
    "    seq_id = [] #empty list for seq indentifiers\n",
    "    for i in line:\n",
    "            if i[0] == '>': #line starts with '>' helps identify seq_id\n",
    "                if seq_id:                               \n",
    "                    sequences.append(seq)\n",
    "                seq_id = i[1:-1].split('|') #split the seq identifiers by '|' into a separate line..easy to remove and only keep the sequences\n",
    "                seq = ''                               \n",
    "            else: #for line that is not seq_id (i.e. sequences)\n",
    "                seq += i[:-1] #return all elements in each line except the last one which is '\\n'\n",
    "    sequences.append(seq)  #only append the sequences ignoring the seq_id             \n",
    "    return('\\n\\n\\n'.join(map(str,sequences))) #convert elements in lists to strings I used three \\n(s) here so that it is easier to view and also convenient when wrting code for translation as one codon consists of three characters. \n",
    "    f.close()\n",
    "    \n",
    "##Some parts of this function is adapted from the textbook."
   ]
  },
  {
   "cell_type": "code",
   "execution_count": 3,
   "metadata": {},
   "outputs": [
    {
     "data": {
      "text/plain": [
       "'empty fasta file.'"
      ]
     },
     "execution_count": 3,
     "metadata": {},
     "output_type": "execute_result"
    }
   ],
   "source": [
    "#test empty fasta file\n",
    "f= load_fasta(\"empty.fa\")\n",
    "f"
   ]
  },
  {
   "cell_type": "code",
   "execution_count": 4,
   "metadata": {},
   "outputs": [],
   "source": [
    "#2.Get reverse complement\n",
    "\n",
    "def get_reverse_complement(seq):\n",
    "    \"\"\"\n",
    "    This function takes DNA sequence input (str) and returns the output as a reverse complement sequence.\n",
    "    If not DNA seq, it will print out a text telling not DNA seq.\n",
    "    \"\"\"\n",
    "    try:\n",
    "        seq_upper=seq.upper() #Convert input seq into upper case (would only work for string)\n",
    "        for base in seq_upper:\n",
    "            seq_dict = {'A':'T','T':'A','G':'C','C':'G','\\n':'\\n'} #a dict for complement bps\n",
    "              #return complement bps in a reverse order\n",
    "            return \"\".join([seq_dict[base] for base in reversed(seq_upper)])\n",
    "    except Exception as e:\n",
    "        return \"The input seq is not a valid DNA seq.\"  #this prints out an error message telling the input is not a valid DNA seq      "
   ]
  },
  {
   "cell_type": "code",
   "execution_count": 5,
   "metadata": {},
   "outputs": [],
   "source": [
    "#3. get transcript\n",
    "\n",
    "def get_transcript(sequence): \n",
    "    \"\"\"This function take an input sequence as string and returns RNA transcript assuming the input is the coding strand.\"\"\"\n",
    "    try:\n",
    "        seq_upper=sequence.upper() #Convert input seq into upper case (would only work for string)\n",
    "        for base in seq_upper:\n",
    "            seq_dict = {'A':'U','T':'T','G':'G','C':'C','\\n':'\\n'} #a dict for complement bps\n",
    "           #return complement bps \n",
    "            return \"\".join([seq_dict[base] for base in seq_upper]) \n",
    "    except Exception as e:\n",
    "        return \"The input seq is not a valid DNA seq.\"  #this prints out an error message telling the input is not a valid DNA seq"
   ]
  },
  {
   "cell_type": "code",
   "execution_count": 6,
   "metadata": {},
   "outputs": [],
   "source": [
    "#create a codon table to translate RNA/DNA seq into nucleotides\n",
    "codon_table = {\n",
    "    \n",
    "    ### RNA\n",
    "#                        Second Base\n",
    "#        U             C             A             G\n",
    "# U\n",
    "    'UUU': 'Phe', 'UCU': 'Ser', 'UAU': 'Tyr', 'UGU': 'Cys',     # UxU\n",
    "    'UUC': 'Phe', 'UCC': 'Ser', 'UAC': 'Tyr', 'UGC': 'Cys',     # UxC\n",
    "    'UUA': 'Leu', 'UCA': 'Ser', 'UAA':  '*', 'UGA'  : '*'  ,     # UxA\n",
    "    'UUG': 'Leu', 'UCG': 'Ser', 'UAG':  '*', 'UGG': 'Trp',     # UxG\n",
    "# C\n",
    "    'CUU': 'Leu', 'CCU': 'Pro', 'CAU': 'His', 'CGU': 'Arg',     # CxU\n",
    "    'CUC': 'Leu', 'CCC': 'Pro', 'CAC': 'His', 'CGC': 'Arg',     # CxC\n",
    "    'CUA': 'Leu', 'CCA': 'Pro', 'CAA': 'Gln', 'CGA': 'Arg',     # CxA\n",
    "    'CUG': 'Leu', 'CCG': 'Pro', 'CAG': 'Gln', 'CGG': 'Arg',     # CxG\n",
    "# A\n",
    "    'AUU': 'Ile', 'ACU': 'Thr', 'AAU': 'Asn', 'AGU': 'Ser',     # AxU\n",
    "    'AUC': 'Ile', 'ACC': 'Thr', 'AAC': 'Asn', 'AGC': 'Ser',     # AxC\n",
    "    'AUA': 'Ile', 'ACA': 'Thr', 'AAA': 'Lys', 'AGA': 'Arg',     # AxA\n",
    "    'AUG': 'Met', 'ACG': 'Thr', 'AAG': 'Lys', 'AGG': 'Arg',     # AxG\n",
    "# G\n",
    "    'GUU': 'Val', 'GCU': 'Ala', 'GAU': 'Asp', 'GGU': 'Gly',     # GxU\n",
    "    'GUC': 'Val', 'GCC': 'Ala', 'GAC': 'Asp', 'GGC': 'Gly',     # GxC\n",
    "    'GUA': 'Val', 'GCA': 'Ala', 'GAA': 'Glu', 'GGA': 'Gly',     # GxA\n",
    "    'GUG': 'Val', 'GCG': 'Ala', 'GAG': 'Glu', 'GGG': 'Gly',      # GxG\n",
    "    '\\n\\n\\n':'\\n\\n\\n',# this is for the three spaces between each sequence block\n",
    "    \n",
    "    ###for DNA\n",
    "    #                        Second Base\n",
    "#        T             C             A             G\n",
    "# T\n",
    "    'TTT': 'Phe', 'TCT': 'Ser', 'TAT': 'Tyr', 'TGT': 'Cys',     # UxU\n",
    "    'TTC': 'Phe', 'TCC': 'Ser', 'TAC': 'Tyr', 'TGC': 'Cys',     # UxC\n",
    "    'TTA': 'Leu', 'TCA': 'Ser', 'TAA': '*', 'TGA':    '*',     # UxA\n",
    "    'TTG': 'Leu', 'TCG': 'Ser', 'TAG': '*', 'TGG': 'Trp',     # UxG\n",
    "# C\n",
    "    'CTT': 'Leu', 'CCT': 'Pro', 'CAT': 'His', 'CGT': 'Arg',     # CxU\n",
    "    'CTC': 'Leu', 'CCC': 'Pro', 'CAC': 'His', 'CGC': 'Arg',     # CxC\n",
    "    'CTA': 'Leu', 'CCA': 'Pro', 'CAA': 'Gln', 'CGA': 'Arg',     # CxA\n",
    "    'CTG': 'Leu', 'CCG': 'Pro', 'CAG': 'Gln', 'CGG': 'Arg',     # CxG\n",
    "# A\n",
    "    'ATT': 'Ile', 'ACT': 'Thr', 'AAT': 'Asn', 'AGT': 'Ser',     # AxU\n",
    "    'ATC': 'Ile', 'ACC': 'Thr', 'AAC': 'Asn', 'AGC': 'Ser',     # AxC\n",
    "    'ATA': 'Ile', 'ACA': 'Thr', 'AAA': 'Lys', 'AGA': 'Arg',     # AxA\n",
    "    'ATG': 'Met', 'ACG': 'Thr', 'AAG': 'Lys', 'AGG': 'Arg',     # AxG\n",
    "# G\n",
    "    'GTT': 'Val', 'GCT': 'Ala', 'GAT': 'Asp', 'GGT': 'Gly',     # GxU\n",
    "    'GTC': 'Val', 'GCC': 'Ala', 'GAC': 'Asp', 'GGC': 'Gly',     # GxC\n",
    "    'GTA': 'Val', 'GCA': 'Ala', 'GAA': 'Glu', 'GGA': 'Gly',     # GxA\n",
    "    'GTG': 'Val', 'GCG': 'Ala', 'GAG': 'Glu', 'GGG': 'Gly'      # GxG\n",
    "}\n",
    "\n",
    "def translate_codon(codon):\n",
    "    \"\"\"This function translates the key in the dict [codon] (3bps) into an amino acid\"\"\"\n",
    "    return codon_table[codon]"
   ]
  },
  {
   "cell_type": "code",
   "execution_count": 22,
   "metadata": {},
   "outputs": [],
   "source": [
    "#4. get_translate\n",
    "\n",
    "def get_translate(seq,reverse_complement_flag=True):\n",
    "    \"\"\"Return the animo acid sequence corresponding to the RNA or DNA seq.This function takes two inputs: seq and True/False.\n",
    "    If true, a translation of the reverse complement will occurs, otherwise it will translate the input seq.\n",
    "    \n",
    "    NOTE: for a fasta file with multiple sequence, the corresponding pair of \n",
    "    reverse_complement_flag=true is in the reversed order \n",
    "    of when the flag= false. Eg. if fasta file has two sequences:Sequence1 \n",
    "    of the file when flag = true corresponds to sequence 2 of the file when flag = false\")\n",
    "    \"\"\" \n",
    "    translation_reversed_comp=''\n",
    "    translation=''\n",
    "    for n in range(0, len(seq) - (len(seq) % 3), 3):  #ignore the last one nucleotide or two if the number of bps not divisible by 3\n",
    "        print (' this is n: '+ str(n)) #commenting out debugging step after confirming the code works\n",
    "        print(len(seq) - (len(seq) % 3)) #commenting out debugging step after confirming the code works\n",
    "         #take the reverse of the whole sequence.This line makes the code not very robust when you have multiple sequences in a file as explained in docstring\n",
    "        reverse_complement=get_reverse_complement(seq)#used the above function to get reverse complement of the seq\n",
    "        #print(reverse_complement)\n",
    "        translation_reversed_comp += translate_codon(reverse_complement[n:n+3])#append result for each iteration\n",
    "        translation += translate_codon(seq[n:n+3]) #append result for each iteration\n",
    "    return translation_reversed_comp if reverse_complement_flag==True else translation  \n",
    "    "
   ]
  },
  {
   "cell_type": "code",
   "execution_count": 10,
   "metadata": {},
   "outputs": [
    {
     "name": "stdout",
     "output_type": "stream",
     "text": [
      "UTUTTGTUC\n"
     ]
    }
   ],
   "source": [
    "#5.Execute test case 1\n",
    "print(get_transcript('ATATTGTAC'))"
   ]
  },
  {
   "cell_type": "code",
   "execution_count": 11,
   "metadata": {},
   "outputs": [
    {
     "name": "stdout",
     "output_type": "stream",
     "text": [
      "The input seq is not a valid DNA seq.\n"
     ]
    }
   ],
   "source": [
    "#5.Execute test case 2\n",
    "print(get_transcript('ATATDSTAV'))"
   ]
  },
  {
   "cell_type": "code",
   "execution_count": 23,
   "metadata": {},
   "outputs": [
    {
     "name": "stdout",
     "output_type": "stream",
     "text": [
      " this is n: 0\n",
      "12\n",
      " this is n: 3\n",
      "12\n",
      " this is n: 6\n",
      "12\n",
      " this is n: 9\n",
      "12\n",
      "*ProThr*\n"
     ]
    }
   ],
   "source": [
    "print(get_translate('ATTTACGTCGGTTA'))"
   ]
  },
  {
   "cell_type": "code",
   "execution_count": null,
   "metadata": {},
   "outputs": [],
   "source": []
  }
 ],
 "metadata": {
  "kernelspec": {
   "display_name": "Python 3",
   "language": "python",
   "name": "python3"
  },
  "language_info": {
   "codemirror_mode": {
    "name": "ipython",
    "version": 3
   },
   "file_extension": ".py",
   "mimetype": "text/x-python",
   "name": "python",
   "nbconvert_exporter": "python",
   "pygments_lexer": "ipython3",
   "version": "3.6.5"
  }
 },
 "nbformat": 4,
 "nbformat_minor": 2
}
