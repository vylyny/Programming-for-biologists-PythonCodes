{
 "cells": [
  {
   "cell_type": "code",
   "execution_count": 37,
   "metadata": {},
   "outputs": [],
   "source": [
    "Stressed = [8.640702, 10.563801, 10.112522, 10.382829, 10.017666]"
   ]
  },
  {
   "cell_type": "code",
   "execution_count": 38,
   "metadata": {},
   "outputs": [],
   "source": [
    "Control = [11.793648, 10.933091, 10.631650, 11.129426, 9.739313]"
   ]
  },
  {
   "cell_type": "code",
   "execution_count": 3,
   "metadata": {},
   "outputs": [],
   "source": [
    "import random"
   ]
  },
  {
   "cell_type": "code",
   "execution_count": null,
   "metadata": {},
   "outputs": [],
   "source": []
  },
  {
   "cell_type": "code",
   "execution_count": 50,
   "metadata": {},
   "outputs": [],
   "source": [
    "import random\n",
    "def permtest(list1,list2):\n",
    "    \"\"\"\n",
    "    This function takes in two lists of vectors and caculate the mean diff. Then it reshuffles the items in the vectors combined\n",
    "    and recalculate the mean diff. If the mean diff recalculated is >= orginal mean, it will count as 1.\n",
    "    Finally, it calculates the proportion of such occurence (for 1000 permutations)\"\"\"\n",
    "    mean_diff= (sum(list2)/len(list2))-(sum(list1)/len(list1)) #Q1. Compute the difference in the mean of two vectors\n",
    "    print (\"Mean diff between group2 and group 1 is: \"+ str(mean_diff)) \n",
    "    list_all=list1+list2\n",
    "    n=int(len(list_all)/2)\n",
    "    mean_diff_eachIteration=[]\n",
    "    for i in range(0,999):  #Q2. reshuffle and calculate mean difference between the two vectors\n",
    "        random.shuffle(list_all)\n",
    "        result=(sum(list_all[:n])/n)-(sum(list_all[n:])/n) #separate them into two groups\n",
    "        #print(result)\n",
    "        #print(type(result))\n",
    "        mean_diff_eachIteration.append(result)\n",
    "    #return mean_diff_eachIteration\n",
    "    for i in mean_diff_eachIteration:\n",
    "        count=0\n",
    "        if i >= mean_diff: #if the recalculated mean is equal or larger than the original mean increases the count by 1\n",
    "            count=count+1\n",
    "    y=(count/1000)*100\n",
    "    print(\"This is count: \" + str(count))\n",
    "    print(\"This is the fraction of difference: \"+ str(y))#Q3: Print out the fraction that has mean diff larger or equal the original mean\n",
    "        "
   ]
  },
  {
   "cell_type": "code",
   "execution_count": 51,
   "metadata": {},
   "outputs": [
    {
     "name": "stdout",
     "output_type": "stream",
     "text": [
      "Mean diff between group2 and group 1 is: 0.9019216000000014\n",
      "This is count: 0\n",
      "This is the fraction of difference: 0.0\n"
     ]
    }
   ],
   "source": [
    "permtest(Stressed,Control)"
   ]
  },
  {
   "cell_type": "code",
   "execution_count": null,
   "metadata": {},
   "outputs": [],
   "source": []
  }
 ],
 "metadata": {
  "kernelspec": {
   "display_name": "Python 3",
   "language": "python",
   "name": "python3"
  },
  "language_info": {
   "codemirror_mode": {
    "name": "ipython",
    "version": 3
   },
   "file_extension": ".py",
   "mimetype": "text/x-python",
   "name": "python",
   "nbconvert_exporter": "python",
   "pygments_lexer": "ipython3",
   "version": "3.6.5"
  }
 },
 "nbformat": 4,
 "nbformat_minor": 2
}
